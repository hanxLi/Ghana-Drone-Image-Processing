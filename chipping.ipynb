{
 "cells": [
  {
   "cell_type": "markdown",
   "metadata": {},
   "source": [
    "# Ghana Drone Images Chipping Pipeline"
   ]
  },
  {
   "cell_type": "markdown",
   "metadata": {},
   "source": [
    "This notebook is for chipping the existing Ghana Drone Images. The chipping pipeline is based on the existing code from Lyndon Estes and Sam Khallaghi. The original drone image data is from a existing project by Clark University and Farmerline and this pipeline helps to chip the existing tile data into chips for training purposes."
   ]
  },
  {
   "cell_type": "markdown",
   "metadata": {},
   "source": [
    "## Imports"
   ]
  },
  {
   "cell_type": "code",
   "execution_count": 1,
   "metadata": {},
   "outputs": [],
   "source": [
    "# importing necessary modules\n",
    "import os\n",
    "import sys\n",
    "from pathlib import Path\n",
    "import geopandas as gpd"
   ]
  },
  {
   "cell_type": "code",
   "execution_count": 2,
   "metadata": {},
   "outputs": [],
   "source": [
    "# Specify the path to the package\n",
    "current_pth = os.getcwd()\n",
    "pkg_path = os.path.dirname(current_pth)"
   ]
  },
  {
   "cell_type": "code",
   "execution_count": 3,
   "metadata": {},
   "outputs": [],
   "source": [
    "# Adding the path to the package to the system path\n",
    "sys.path.insert(0, os.path.join(pkg_path, 'imageProcessing/'))\n",
    "sys.path.insert(0, pkg_path)"
   ]
  },
  {
   "cell_type": "code",
   "execution_count": 5,
   "metadata": {},
   "outputs": [],
   "source": [
    "# Importing the imageProcessing package\n",
    "import importlib\n",
    "import imageProcessing\n",
    "importlib.reload(imageProcessing)\n",
    "from imageProcessing import *"
   ]
  },
  {
   "cell_type": "markdown",
   "metadata": {},
   "source": [
    "## Config"
   ]
  },
  {
   "cell_type": "code",
   "execution_count": 6,
   "metadata": {},
   "outputs": [],
   "source": [
    "\n",
    "# Specify the path to the project directory\n",
    "# This would be the directory that you clone the repo into\n",
    "\n",
    "\n",
    "proj_dir = Path(\"/Volumes/sTeeeve/GIS_Data/Ghana_Drone_Images/\")\n",
    "\n",
    "# Configureation parameters\n",
    "config = {\n",
    "    \n",
    "    #I/O and path setup\n",
    "\n",
    "    # Path to the project directory\n",
    "    \"proj_dir\" : proj_dir, \n",
    "    # Path to the label file\n",
    "    \"label_path\" : Path(proj_dir) / \"labels\" / \"class2_all_fix_v1_2.geojson\", \n",
    "    # Path to the bounding box file\n",
    "    \"labelled_area_path\" : Path(proj_dir) / \"labels\" / \"ortho_exts_maingrid_rectified_v1_1.geojson\", \n",
    "    # Path to the raw image directory\n",
    "    \"img_dir\" : Path(proj_dir) / \"processed\",\n",
    "    # Path to save the rasterized image tiles\n",
    "    \"img_out_dir\" : Path(proj_dir) / \"working/image_tiles\",\n",
    "    # Path to save the rasterized label tiles\n",
    "    \"lbl_out_dir\" : Path(proj_dir) / \"working/label_tiles\",\n",
    "    # Path to save the rasterized mask tiles\n",
    "    \"msk_out_dir\" : Path(proj_dir) / \"working/mask_tiles\",\n",
    "    # Path to save the processed image chips\n",
    "    \"lbl_chip_dir\" : Path(proj_dir) / \"label_chips\",\n",
    "    # Path to save the processed label chips\n",
    "    \"img_chip_dir\" : Path(proj_dir) / \"image_chips\",\n",
    "\n",
    "    # Image processing parameters\n",
    "    \"prim_crop\" : ['maize', 'fallow'], # When doing binary crop classification only specify one crop here The donimate crop are maize and fallow.\n",
    "    \"binary_mask\" : False,           # If True, will create a binary mask for crop and non-crop\n",
    "\n",
    "    # Output format for the image chips. Geotiff, npz and pkl are available.\n",
    "    # If npz or pkl, the image chips will be saved along the label chips as pairs in a list\n",
    "    # Two files that contians the training and validation chips will be created.\n",
    "    # When no output format is specified, the default is tif and will be saved to the provided path.\n",
    "    \"output_format\" : \"tif\",         \n",
    "\n",
    "    \"positive_threshold\" : 0.1,      # Threshold for the positive class in the mask, between 0 and 1\n",
    "\n",
    "    # output resolution for images. original was 2.5e-07\n",
    "    # res = 10e-07 is used in this example and as default.\n",
    "    # Warning: Using the res option might result in tiles with different sizes(nrows, ncols)\n",
    "    \"res\": 10e-07,                \n",
    "\n",
    "    # When res is not used, the number of rows and columns in each tile must be specified\n",
    "    \"nrows\": 5000,                  # number of rows in each tile\n",
    "    \"ncols\": 5000,                  # number of columns in each tile\n",
    "\n",
    "    \"tile_size\" : 256,              # tile size in pixels\n",
    "    \"overlap\": 32,                  # overlap between tiles in pixels\n",
    "\n",
    "}\n",
    "\n",
    "# Create the output directories if they don't exist\n",
    "dir_list = [config[\"img_out_dir\"], config[\"lbl_out_dir\"], config[\"msk_out_dir\"], config[\"img_chip_dir\"], config[\"lbl_chip_dir\"]]\n",
    "for folder in dir_list:\n",
    "    if not os.path.isdir(folder):\n",
    "        os.makedirs(folder)"
   ]
  },
  {
   "cell_type": "markdown",
   "metadata": {},
   "source": [
    "## Checking/Loading Label Information"
   ]
  },
  {
   "cell_type": "code",
   "execution_count": 7,
   "metadata": {},
   "outputs": [
    {
     "data": {
      "text/html": [
       "<div>\n",
       "<style scoped>\n",
       "    .dataframe tbody tr th:only-of-type {\n",
       "        vertical-align: middle;\n",
       "    }\n",
       "\n",
       "    .dataframe tbody tr th {\n",
       "        vertical-align: top;\n",
       "    }\n",
       "\n",
       "    .dataframe thead th {\n",
       "        text-align: right;\n",
       "    }\n",
       "</style>\n",
       "<table border=\"1\" class=\"dataframe\">\n",
       "  <thead>\n",
       "    <tr style=\"text-align: right;\">\n",
       "      <th></th>\n",
       "      <th>grid_name</th>\n",
       "      <th>region</th>\n",
       "      <th>cid</th>\n",
       "      <th>sid</th>\n",
       "      <th>file_name</th>\n",
       "      <th>geometry</th>\n",
       "    </tr>\n",
       "  </thead>\n",
       "  <tbody>\n",
       "    <tr>\n",
       "      <th>0</th>\n",
       "      <td>GH0484825</td>\n",
       "      <td>ej</td>\n",
       "      <td>1426</td>\n",
       "      <td>388</td>\n",
       "      <td>GH0484825.tif</td>\n",
       "      <td>POLYGON ((-0.99600 7.20000, -0.99100 7.20000, ...</td>\n",
       "    </tr>\n",
       "    <tr>\n",
       "      <th>1</th>\n",
       "      <td>GH0486273</td>\n",
       "      <td>ej</td>\n",
       "      <td>1435</td>\n",
       "      <td>12</td>\n",
       "      <td>GH0486273.tif</td>\n",
       "      <td>POLYGON ((-0.98600 7.19000, -0.98100 7.19000, ...</td>\n",
       "    </tr>\n",
       "    <tr>\n",
       "      <th>2</th>\n",
       "      <td>GH0358883</td>\n",
       "      <td>ej</td>\n",
       "      <td>909</td>\n",
       "      <td>44</td>\n",
       "      <td>GH0358883.tif</td>\n",
       "      <td>POLYGON ((-2.36100 8.11000, -2.35600 8.11000, ...</td>\n",
       "    </tr>\n",
       "    <tr>\n",
       "      <th>3</th>\n",
       "      <td>GH0373226</td>\n",
       "      <td>ej</td>\n",
       "      <td>932</td>\n",
       "      <td>296</td>\n",
       "      <td>GH0373226.tif</td>\n",
       "      <td>POLYGON ((-1.59100 8.00000, -1.58600 8.00000, ...</td>\n",
       "    </tr>\n",
       "    <tr>\n",
       "      <th>4</th>\n",
       "      <td>GH0419907</td>\n",
       "      <td>ej</td>\n",
       "      <td>1088</td>\n",
       "      <td>138</td>\n",
       "      <td>GH0419907.tif</td>\n",
       "      <td>POLYGON ((-1.08600 7.66000, -1.08100 7.66000, ...</td>\n",
       "    </tr>\n",
       "  </tbody>\n",
       "</table>\n",
       "</div>"
      ],
      "text/plain": [
       "   grid_name region   cid  sid      file_name  \\\n",
       "0  GH0484825     ej  1426  388  GH0484825.tif   \n",
       "1  GH0486273     ej  1435   12  GH0486273.tif   \n",
       "2  GH0358883     ej   909   44  GH0358883.tif   \n",
       "3  GH0373226     ej   932  296  GH0373226.tif   \n",
       "4  GH0419907     ej  1088  138  GH0419907.tif   \n",
       "\n",
       "                                            geometry  \n",
       "0  POLYGON ((-0.99600 7.20000, -0.99100 7.20000, ...  \n",
       "1  POLYGON ((-0.98600 7.19000, -0.98100 7.19000, ...  \n",
       "2  POLYGON ((-2.36100 8.11000, -2.35600 8.11000, ...  \n",
       "3  POLYGON ((-1.59100 8.00000, -1.58600 8.00000, ...  \n",
       "4  POLYGON ((-1.08600 7.66000, -1.08100 7.66000, ...  "
      ]
     },
     "execution_count": 7,
     "metadata": {},
     "output_type": "execute_result"
    }
   ],
   "source": [
    "# Loading the bounding box for the labelled area\n",
    "bbox = gpd.read_file(config[\"labelled_area_path\"])\n",
    "bbox.head()"
   ]
  },
  {
   "cell_type": "code",
   "execution_count": 8,
   "metadata": {},
   "outputs": [
    {
     "data": {
      "text/html": [
       "<div>\n",
       "<style scoped>\n",
       "    .dataframe tbody tr th:only-of-type {\n",
       "        vertical-align: middle;\n",
       "    }\n",
       "\n",
       "    .dataframe tbody tr th {\n",
       "        vertical-align: top;\n",
       "    }\n",
       "\n",
       "    .dataframe thead th {\n",
       "        text-align: right;\n",
       "    }\n",
       "</style>\n",
       "<table border=\"1\" class=\"dataframe\">\n",
       "  <thead>\n",
       "    <tr style=\"text-align: right;\">\n",
       "      <th></th>\n",
       "      <th>region</th>\n",
       "      <th>grid_name</th>\n",
       "      <th>id</th>\n",
       "      <th>fixed</th>\n",
       "      <th>regiorth</th>\n",
       "      <th>cid</th>\n",
       "      <th>sid</th>\n",
       "      <th>file_name</th>\n",
       "      <th>labeller</th>\n",
       "      <th>prim_crop</th>\n",
       "      <th>sec_crop</th>\n",
       "      <th>confidence</th>\n",
       "      <th>notes</th>\n",
       "      <th>geometry</th>\n",
       "    </tr>\n",
       "  </thead>\n",
       "  <tbody>\n",
       "    <tr>\n",
       "      <th>0</th>\n",
       "      <td></td>\n",
       "      <td>GH0004386</td>\n",
       "      <td>D1</td>\n",
       "      <td>0.0</td>\n",
       "      <td>north63</td>\n",
       "      <td>402</td>\n",
       "      <td>42</td>\n",
       "      <td>GH0004386.tif</td>\n",
       "      <td>labeller2</td>\n",
       "      <td>fallow</td>\n",
       "      <td>None</td>\n",
       "      <td>high</td>\n",
       "      <td>None</td>\n",
       "      <td>POLYGON ((-0.31889 10.98019, -0.31880 10.98016...</td>\n",
       "    </tr>\n",
       "    <tr>\n",
       "      <th>1</th>\n",
       "      <td>ej</td>\n",
       "      <td>GH0353750</td>\n",
       "      <td>D6027</td>\n",
       "      <td>0.0</td>\n",
       "      <td>ej2</td>\n",
       "      <td>909</td>\n",
       "      <td>7</td>\n",
       "      <td>GH0353750.tif</td>\n",
       "      <td>labeller4</td>\n",
       "      <td>yam</td>\n",
       "      <td>None</td>\n",
       "      <td>High</td>\n",
       "      <td>None</td>\n",
       "      <td>POLYGON ((-2.34586 8.14466, -2.34529 8.14451, ...</td>\n",
       "    </tr>\n",
       "    <tr>\n",
       "      <th>2</th>\n",
       "      <td>ej</td>\n",
       "      <td>GH0353750</td>\n",
       "      <td>D6028</td>\n",
       "      <td>0.0</td>\n",
       "      <td>ej2</td>\n",
       "      <td>909</td>\n",
       "      <td>7</td>\n",
       "      <td>GH0353750.tif</td>\n",
       "      <td>labeller4</td>\n",
       "      <td>fallow</td>\n",
       "      <td>None</td>\n",
       "      <td>LOw</td>\n",
       "      <td>None</td>\n",
       "      <td>POLYGON ((-2.34388 8.14620, -2.34401 8.14585, ...</td>\n",
       "    </tr>\n",
       "    <tr>\n",
       "      <th>3</th>\n",
       "      <td>ej</td>\n",
       "      <td>GH0353750</td>\n",
       "      <td>D6029</td>\n",
       "      <td>0.0</td>\n",
       "      <td>ej2</td>\n",
       "      <td>909</td>\n",
       "      <td>7</td>\n",
       "      <td>GH0353750.tif</td>\n",
       "      <td>labeller4</td>\n",
       "      <td>fallow</td>\n",
       "      <td>None</td>\n",
       "      <td>High</td>\n",
       "      <td>None</td>\n",
       "      <td>POLYGON ((-2.34505 8.15008, -2.34496 8.15021, ...</td>\n",
       "    </tr>\n",
       "    <tr>\n",
       "      <th>4</th>\n",
       "      <td>ej</td>\n",
       "      <td>GH0353750</td>\n",
       "      <td>D6030</td>\n",
       "      <td>0.0</td>\n",
       "      <td>ej2</td>\n",
       "      <td>909</td>\n",
       "      <td>7</td>\n",
       "      <td>GH0353750.tif</td>\n",
       "      <td>labeller4</td>\n",
       "      <td>fallow</td>\n",
       "      <td>None</td>\n",
       "      <td>High</td>\n",
       "      <td>None</td>\n",
       "      <td>POLYGON ((-2.34507 8.15022, -2.34462 8.15022, ...</td>\n",
       "    </tr>\n",
       "  </tbody>\n",
       "</table>\n",
       "</div>"
      ],
      "text/plain": [
       "  region  grid_name     id  fixed regiorth  cid sid      file_name   labeller  \\\n",
       "0         GH0004386     D1    0.0  north63  402  42  GH0004386.tif  labeller2   \n",
       "1     ej  GH0353750  D6027    0.0      ej2  909   7  GH0353750.tif  labeller4   \n",
       "2     ej  GH0353750  D6028    0.0      ej2  909   7  GH0353750.tif  labeller4   \n",
       "3     ej  GH0353750  D6029    0.0      ej2  909   7  GH0353750.tif  labeller4   \n",
       "4     ej  GH0353750  D6030    0.0      ej2  909   7  GH0353750.tif  labeller4   \n",
       "\n",
       "  prim_crop sec_crop confidence notes  \\\n",
       "0    fallow     None       high  None   \n",
       "1       yam     None       High  None   \n",
       "2    fallow     None        LOw  None   \n",
       "3    fallow     None       High  None   \n",
       "4    fallow     None       High  None   \n",
       "\n",
       "                                            geometry  \n",
       "0  POLYGON ((-0.31889 10.98019, -0.31880 10.98016...  \n",
       "1  POLYGON ((-2.34586 8.14466, -2.34529 8.14451, ...  \n",
       "2  POLYGON ((-2.34388 8.14620, -2.34401 8.14585, ...  \n",
       "3  POLYGON ((-2.34505 8.15008, -2.34496 8.15021, ...  \n",
       "4  POLYGON ((-2.34507 8.15022, -2.34462 8.15022, ...  "
      ]
     },
     "execution_count": 8,
     "metadata": {},
     "output_type": "execute_result"
    }
   ],
   "source": [
    "# Loading the labels for each image tile\n",
    "labels = gpd.read_file(config[\"label_path\"])\n",
    "labels.head()"
   ]
  },
  {
   "cell_type": "code",
   "execution_count": 9,
   "metadata": {},
   "outputs": [],
   "source": [
    "# Filtering the tables to only include necessary information\n",
    "\n",
    "labels = labels[[\"grid_name\", \"prim_crop\", \"confidence\", \"file_name\", \"geometry\"]]\n",
    "bbox = bbox[[\"grid_name\", \"file_name\", \"geometry\"]]\n",
    "\n",
    "# Gather the list of path of all the image tiles in the image directory\n",
    "img_paths = list_full_path(config[\"img_dir\"], \".tif$\")"
   ]
  },
  {
   "cell_type": "markdown",
   "metadata": {},
   "source": [
    "## Chipping Process"
   ]
  },
  {
   "cell_type": "code",
   "execution_count": 10,
   "metadata": {},
   "outputs": [
    {
     "name": "stderr",
     "output_type": "stream",
     "text": [
      "100%|██████████| 3/3 [00:27<00:00,  9.01s/it]\n"
     ]
    }
   ],
   "source": [
    "# Creating image, mask and label rasters\n",
    "img_list, lbl_list, msk_list = create_msk_lbl_img(img_paths[0:3], labels, bbox, \n",
    "                                                  proj_dir,config[\"msk_out_dir\"], \n",
    "                                                  config[\"lbl_out_dir\"], \n",
    "                                                  config[\"img_out_dir\"],\n",
    "                                                  res=None,\n",
    "                                                  nrow=config[\"nrows\"],\n",
    "                                                  ncol=config[\"ncols\"],\n",
    "                                                  binary_mask=config[\"binary_mask\"], \n",
    "                                                  prim_crop=config[\"prim_crop\"])"
   ]
  },
  {
   "cell_type": "code",
   "execution_count": null,
   "metadata": {},
   "outputs": [],
   "source": [
    "# Splitting the image, mask and label rasters into chips and save the information in a catalog\n",
    "chipping_catalog = train_test_split_cat(img_list, lbl_list, msk_list, proj_dir)"
   ]
  },
  {
   "cell_type": "code",
   "execution_count": null,
   "metadata": {},
   "outputs": [],
   "source": [
    "# Do the chipping based on the catalog and other parameters\n",
    "chipping(proj_dir, config[\"lbl_chip_dir\"], \n",
    "         config[\"img_chip_dir\"], \n",
    "         config[\"output_format\"], \n",
    "         chipping_cat=chipping_catalog, # Returned from train_test_split_cat\n",
    "         patch_size=config[\"tile_size\"],\n",
    "         overlap=config[\"overlap\"],\n",
    "         positive_class_threshold = config[\"positive_threshold\"])"
   ]
  },
  {
   "cell_type": "markdown",
   "metadata": {},
   "source": [
    "## Visualize chipped img and lbl pairs"
   ]
  },
  {
   "cell_type": "code",
   "execution_count": null,
   "metadata": {},
   "outputs": [],
   "source": [
    "# Loading the catalog of the chipped images and display it\n",
    "cat = pd.read_csv(Path(proj_dir) / \"working\" / \"chips_catalog.csv\")\n",
    "cat.head()"
   ]
  },
  {
   "cell_type": "code",
   "execution_count": null,
   "metadata": {},
   "outputs": [],
   "source": [
    "band_composite=[1,2,3] # RGB\n",
    "stretch = True  \n",
    "samples = random.sample(range(0, len(cat)), 3) # Randomly select 3 samples from the catalog\n",
    "\n",
    "# Plotting the image chips and label chips\n",
    "for sample in samples:\n",
    "    plot_img_lbl_pair(Path(proj_dir) / cat[\"images\"][sample], Path(proj_dir) / cat[\"labels\"][sample], band_composite, stretch)"
   ]
  }
 ],
 "metadata": {
  "kernelspec": {
   "display_name": "pyTorchMPS",
   "language": "python",
   "name": "python3"
  },
  "language_info": {
   "codemirror_mode": {
    "name": "ipython",
    "version": 3
   },
   "file_extension": ".py",
   "mimetype": "text/x-python",
   "name": "python",
   "nbconvert_exporter": "python",
   "pygments_lexer": "ipython3",
   "version": "3.11.4"
  }
 },
 "nbformat": 4,
 "nbformat_minor": 2
}
