{
 "cells": [
  {
   "cell_type": "markdown",
   "metadata": {},
   "source": [
    "# Ghana Drone Images Chipping Pipeline"
   ]
  },
  {
   "cell_type": "markdown",
   "metadata": {},
   "source": [
    "This notebook is for chipping the existing Ghana Drone Images. The chipping pipeline is based on the existing code from Lyndon Estes and Sam Khallaghi. The original drone image data is from a existing project by Clark University and Farmerline and this pipeline helps to chip the existing tile data into chips for training purposes."
   ]
  },
  {
   "cell_type": "markdown",
   "metadata": {},
   "source": [
    "## Imports"
   ]
  },
  {
   "cell_type": "code",
   "execution_count": null,
   "metadata": {},
   "outputs": [],
   "source": [
    "# importing necessary modules\n",
    "import os\n",
    "import sys\n",
    "from pathlib import Path\n",
    "import geopandas as gpd"
   ]
  },
  {
   "cell_type": "code",
   "execution_count": null,
   "metadata": {},
   "outputs": [],
   "source": [
    "# Specify the path to the package\n",
    "current_pth = os.getcwd()\n",
    "pkg_path = os.path.dirname(current_pth)"
   ]
  },
  {
   "cell_type": "code",
   "execution_count": null,
   "metadata": {},
   "outputs": [],
   "source": [
    "# Adding the path to the package to the system path\n",
    "sys.path.insert(0, os.path.join(pkg_path, 'imageProcessing/'))\n",
    "sys.path.insert(0, pkg_path)"
   ]
  },
  {
   "cell_type": "code",
   "execution_count": null,
   "metadata": {},
   "outputs": [],
   "source": [
    "# Importing the imageProcessing package\n",
    "import importlib\n",
    "import imageProcessing\n",
    "importlib.reload(imageProcessing)\n",
    "from imageProcessing import *"
   ]
  },
  {
   "cell_type": "markdown",
   "metadata": {},
   "source": [
    "## Config"
   ]
  },
  {
   "cell_type": "code",
   "execution_count": null,
   "metadata": {},
   "outputs": [],
   "source": [
    "\n",
    "# Specify the path to the project directory\n",
    "# This would be the directory that you clone the repo into\n",
    "\n",
    "\n",
    "proj_dir = Path(\"/Volumes/sTeeeve/GIS_Data/Ghana_Drone_Images/\")\n",
    "\n",
    "# Configureation parameters\n",
    "config = {\n",
    "    \n",
    "    #I/O and path setup\n",
    "\n",
    "    # Path to the project directory\n",
    "    \"proj_dir\" : proj_dir, \n",
    "    # Path to the label file\n",
    "    \"label_path\" : Path(proj_dir) / \"labels\" / \"class2_all_fix_v1_2.geojson\", \n",
    "    # Path to the bounding box file\n",
    "    \"labelled_area_path\" : Path(proj_dir) / \"labels\" / \"ortho_exts_maingrid_rectified_v1_1.geojson\", \n",
    "    # Path to the raw image directory\n",
    "    \"img_dir\" : Path(proj_dir) / \"processed\",\n",
    "    # Path to save the rasterized image tiles\n",
    "    \"img_out_dir\" : Path(proj_dir) / \"working/image_tiles\",\n",
    "    # Path to save the rasterized label tiles\n",
    "    \"lbl_out_dir\" : Path(proj_dir) / \"working/label_tiles\",\n",
    "    # Path to save the rasterized mask tiles\n",
    "    \"msk_out_dir\" : Path(proj_dir) / \"working/mask_tiles\",\n",
    "    # Path to save the processed image chips\n",
    "    \"lbl_chip_dir\" : Path(proj_dir) / \"label_chips\",\n",
    "    # Path to save the processed label chips\n",
    "    \"img_chip_dir\" : Path(proj_dir) / \"image_chips\",\n",
    "\n",
    "    # Image processing parameters\n",
    "    \"prim_crop\" : [\"maize\"], # When doing binary crop classification only specify one crop here The donimate crop are maize and fallow.\n",
    "    \"binary_mask\" : False,           # If True, will create a binary mask for crop and non-crop\n",
    "\n",
    "    # Output format for the image chips. Geotiff, npz and pkl are available.\n",
    "    # If npz or pkl, the image chips will be saved along the label chips as pairs in a list\n",
    "    # Two files that contians the training and validation chips will be created.\n",
    "    # When no output format is specified, the default is tif and will be saved to the provided path.\n",
    "    \"output_format\" : \"tif\",\n",
    "\n",
    "    \"positive_threshold\" : 0.1,      # Threshold for the positive class in the mask, between 0 and 1\n",
    "\n",
    "    # output resolution for images. original was 2.5e-07\n",
    "    # res = 10e-07 is used in this example and as default.\n",
    "    # Warning: Using the res option might result in tiles with different sizes(nrows, ncols)\n",
    "    \"res\": 10e-07,                # Used in Oil-Palm \n",
    "\n",
    "    # When res is not used, the number of rows and columns in each tile must be specified\n",
    "    # Used in maize and rice\n",
    "    \"nrows\": 5000,                  # number of rows in each tile\n",
    "    \"ncols\": 5000,                  # number of columns in each tile\n",
    "\n",
    "    \"tile_size\" : 256,              # tile size in pixels\n",
    "    \"overlap\": 32,                  # overlap between tiles in pixels\n",
    "\n",
    "}\n",
    "\n",
    "# Create the output directories if they don't exist\n",
    "dir_list = [config[\"img_out_dir\"], config[\"lbl_out_dir\"], config[\"msk_out_dir\"], config[\"img_chip_dir\"], config[\"lbl_chip_dir\"]]\n",
    "for folder in dir_list:\n",
    "    if not os.path.isdir(folder):\n",
    "        os.makedirs(folder)"
   ]
  },
  {
   "cell_type": "markdown",
   "metadata": {},
   "source": [
    "## Checking/Loading Label Information"
   ]
  },
  {
   "cell_type": "code",
   "execution_count": null,
   "metadata": {},
   "outputs": [],
   "source": [
    "# Loading the bounding box for the labelled area\n",
    "bbox = gpd.read_file(config[\"labelled_area_path\"])\n",
    "bbox.head()"
   ]
  },
  {
   "cell_type": "code",
   "execution_count": null,
   "metadata": {},
   "outputs": [],
   "source": [
    "# Loading the labels for each image tile\n",
    "labels = gpd.read_file(config[\"label_path\"])\n",
    "labels.head()"
   ]
  },
  {
   "cell_type": "code",
   "execution_count": null,
   "metadata": {},
   "outputs": [],
   "source": [
    "# Filtering the tables to only include necessary information\n",
    "\n",
    "labels = labels[[\"prim_crop\", \"confidence\", \"file_name\", \"geometry\"]]\n",
    "bbox = bbox[[\"file_name\", \"geometry\"]]\n",
    "\n",
    "# Gather the list of path of all the image tiles in the image directory\n",
    "img_paths = list_full_path(config[\"img_dir\"], \".tif$\")"
   ]
  },
  {
   "cell_type": "markdown",
   "metadata": {},
   "source": [
    "## Chipping Process"
   ]
  },
  {
   "cell_type": "code",
   "execution_count": null,
   "metadata": {},
   "outputs": [],
   "source": [
    "# Creating image, mask and label rasters\n",
    "img_list, lbl_list, msk_list = create_msk_lbl_img(img_paths, labels, bbox, \n",
    "                                                  proj_dir,config[\"msk_out_dir\"],\n",
    "                                                  config[\"lbl_out_dir\"],\n",
    "                                                  config[\"img_out_dir\"],\n",
    "                                                  res=None,\n",
    "                                                  nrow=config[\"nrows\"],\n",
    "                                                  ncol=config[\"ncols\"],\n",
    "                                                  binary_mask=config[\"binary_mask\"], \n",
    "                                                  prim_crop=config[\"prim_crop\"])"
   ]
  },
  {
   "cell_type": "code",
   "execution_count": null,
   "metadata": {},
   "outputs": [],
   "source": [
    "# Splitting the image, mask and label rasters into chips and save the information in a catalog\n",
    "chipping_catalog = train_test_split_cat(img_list, lbl_list, msk_list, proj_dir)"
   ]
  },
  {
   "cell_type": "code",
   "execution_count": null,
   "metadata": {},
   "outputs": [],
   "source": [
    "chipping_catalog"
   ]
  },
  {
   "cell_type": "code",
   "execution_count": null,
   "metadata": {},
   "outputs": [],
   "source": [
    "# Do the chipping based on the catalog and other parameters\n",
    "chipping(proj_dir, config[\"lbl_chip_dir\"],\n",
    "         config[\"img_chip_dir\"],\n",
    "         config[\"output_format\"],\n",
    "         chipping_cat=chipping_catalog, # Returned from train_test_split_cat\n",
    "         patch_size=config[\"tile_size\"],\n",
    "         overlap=config[\"overlap\"],\n",
    "         positive_class_threshold = config[\"positive_threshold\"])"
   ]
  },
  {
   "cell_type": "markdown",
   "metadata": {},
   "source": [
    "## Visualize chipped img and lbl pairs"
   ]
  },
  {
   "cell_type": "code",
   "execution_count": null,
   "metadata": {},
   "outputs": [],
   "source": [
    "# Loading the catalog of the chipped images and display it\n",
    "cat = pd.read_csv(Path(proj_dir) / \"working\" / \"chips_catalog.csv\")\n",
    "cat"
   ]
  },
  {
   "cell_type": "code",
   "execution_count": null,
   "metadata": {},
   "outputs": [],
   "source": [
    "band_composite=[1,2,3] # RGB\n",
    "stretch = True  \n",
    "samples = random.sample(range(0, len(cat)), 3) # Randomly select 3 samples from the catalog\n",
    "\n",
    "# Plotting the image chips and label chips\n",
    "for sample in samples:\n",
    "    plot_img_lbl_pair(Path(proj_dir) / cat[\"images\"][sample], Path(proj_dir) / cat[\"labels\"][sample], band_composite, stretch)"
   ]
  },
  {
   "cell_type": "code",
   "execution_count": null,
   "metadata": {},
   "outputs": [],
   "source": []
  },
  {
   "cell_type": "code",
   "execution_count": null,
   "metadata": {},
   "outputs": [],
   "source": []
  }
 ],
 "metadata": {
  "kernelspec": {
   "display_name": "pyTorchMPS",
   "language": "python",
   "name": "python3"
  },
  "language_info": {
   "codemirror_mode": {
    "name": "ipython",
    "version": 3
   },
   "file_extension": ".py",
   "mimetype": "text/x-python",
   "name": "python",
   "nbconvert_exporter": "python",
   "pygments_lexer": "ipython3",
   "version": "3.11.4"
  }
 },
 "nbformat": 4,
 "nbformat_minor": 2
}
