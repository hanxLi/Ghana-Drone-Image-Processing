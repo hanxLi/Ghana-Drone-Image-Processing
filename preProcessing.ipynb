{
 "cells": [
  {
   "cell_type": "markdown",
   "id": "7e27de0a",
   "metadata": {},
   "source": [
    "# Ghana Drone Image Pre-Processing"
   ]
  },
  {
   "cell_type": "markdown",
   "id": "077bdda8",
   "metadata": {},
   "source": [
    "This notebook cleans up the original ghana drone image data's file name and it's catalog for better organization and readability."
   ]
  },
  {
   "cell_type": "markdown",
   "id": "a88a9134",
   "metadata": {},
   "source": [
    "## Imports"
   ]
  },
  {
   "cell_type": "code",
   "execution_count": null,
   "id": "c9254c5e-0c7d-49dd-b0ca-6be8f5b2faac",
   "metadata": {
    "tags": []
   },
   "outputs": [],
   "source": [
    "import os\n",
    "import shutil\n",
    "import geopandas as gpd\n",
    "from pathlib import Path"
   ]
  },
  {
   "cell_type": "markdown",
   "id": "8e28bf8f",
   "metadata": {},
   "source": [
    "## Define paths and loads catalog"
   ]
  },
  {
   "cell_type": "code",
   "execution_count": null,
   "id": "37fde03c-dbe4-4039-9fd8-6434b86f785a",
   "metadata": {
    "tags": []
   },
   "outputs": [],
   "source": [
    "# I/O settings\n",
    "\n",
    "proj_dir = \"/Users/steve/Dev/ghana-drone-images\" # Path to project directory\n",
    "\n",
    "raw_path = Path(proj_dir) / \"raw\" # Path to raw images\n",
    "processed_path = Path(proj_dir) / \"processed\" # Path to processed images\n",
    "bbox_path = Path(proj_dir) / \"labels\" / \"ortho_exts_maingrid_rectified.geojson\" # Path to bounding box file version 1\n",
    "labels_path = Path(proj_dir) / \"labels\" / \"class2_all_fix_v1_1.geojson\" # Path to bounding box file version 1"
   ]
  },
  {
   "cell_type": "code",
   "execution_count": null,
   "id": "65f82a61-20e2-4cbd-a906-c8938bd4210b",
   "metadata": {
    "tags": []
   },
   "outputs": [],
   "source": [
    "# Read in catalog data from geojson with geopandas\n",
    "bbox = gpd.read_file(bbox_path)\n",
    "labels = gpd.read_file(labels_path)"
   ]
  },
  {
   "cell_type": "code",
   "execution_count": null,
   "id": "38e10d16",
   "metadata": {},
   "outputs": [],
   "source": [
    "labels.head()"
   ]
  },
  {
   "cell_type": "code",
   "execution_count": null,
   "id": "c4a830f2-223e-4732-890e-00cb72d0d991",
   "metadata": {
    "tags": []
   },
   "outputs": [],
   "source": [
    "bbox.head()"
   ]
  },
  {
   "cell_type": "markdown",
   "id": "3c9a5146",
   "metadata": {},
   "source": [
    "## Renaming and Copy the Raw Images"
   ]
  },
  {
   "cell_type": "markdown",
   "id": "28a487a0",
   "metadata": {},
   "source": [
    "This section would rename and copy the raw images to a new directory without modifying the original raw images"
   ]
  },
  {
   "cell_type": "code",
   "execution_count": null,
   "id": "be6b2e0a-6978-4371-ac37-9c672e47593e",
   "metadata": {
    "tags": []
   },
   "outputs": [],
   "source": [
    "# Create a list of all the files in the raw directory\n",
    "file_list = os.listdir(raw_path)\n",
    "\n",
    "# Loop through the list of files and copy them to the processed directory\n",
    "for file in file_list:\n",
    "  ori_path = os.path.join(raw_path, file)\n",
    "  if not bbox[bbox.ortho == file][\"name\"].empty:\n",
    "    new_name = bbox[bbox.ortho == file][\"name\"].values[0] + \".tif\"\n",
    "    grid_path = os.path.join(processed_path, new_name)\n",
    "    if not os.path.exists(grid_path):\n",
    "        shutil.copy(ori_path, grid_path)"
   ]
  },
  {
   "cell_type": "markdown",
   "id": "45355e16",
   "metadata": {},
   "source": [
    "## Generating new catalogs"
   ]
  },
  {
   "cell_type": "code",
   "execution_count": null,
   "id": "139f7307-b703-4ac8-8143-a91db7c33955",
   "metadata": {
    "tags": []
   },
   "outputs": [],
   "source": [
    "bbox_new = bbox.copy()\n",
    "bbox_new[\"ortho\"] = bbox_new[\"name\"].apply(lambda x: x + \".tif\")\n",
    "bbox_new = bbox_new.rename(columns={'name': 'grid_name', 'ortho': 'file_name'})\n",
    "bbox_new.head()"
   ]
  },
  {
   "cell_type": "code",
   "execution_count": null,
   "id": "9b4ddf41-bb80-4308-96c3-9420ed623d4e",
   "metadata": {
    "tags": []
   },
   "outputs": [],
   "source": [
    "labels_new = labels.copy()\n",
    "labels_new[\"ortho\"] = labels_new[\"name\"].apply(lambda x: x + \".tif\")\n",
    "labels_new = labels_new.rename(columns={'name': 'grid_name', 'ortho': 'file_name'})\n",
    "labels_new.head()"
   ]
  },
  {
   "cell_type": "code",
   "execution_count": null,
   "id": "a5065547-ac28-4ede-8c52-bb62b335c23c",
   "metadata": {
    "tags": []
   },
   "outputs": [],
   "source": [
    "labels_new.to_file(\"/Volumes/sTeeeve/GIS_Data/Ghana_Drone_Images/labels/class2_all_fix_v1_2.geojson\", driver=\"GeoJSON\")"
   ]
  },
  {
   "cell_type": "code",
   "execution_count": null,
   "id": "975ec394",
   "metadata": {},
   "outputs": [],
   "source": [
    "bbox_new.to_file(\"/Volumes/sTeeeve/GIS_Data/Ghana_Drone_Images/labels/ortho_exts_maingrid_rectified_v1_1.geojson\", driver=\"GeoJSON\")"
   ]
  }
 ],
 "metadata": {
  "kernelspec": {
   "display_name": "Python 3 (ipykernel)",
   "language": "python",
   "name": "python3"
  },
  "language_info": {
   "codemirror_mode": {
    "name": "ipython",
    "version": 3
   },
   "file_extension": ".py",
   "mimetype": "text/x-python",
   "name": "python",
   "nbconvert_exporter": "python",
   "pygments_lexer": "ipython3",
   "version": "3.11.4"
  }
 },
 "nbformat": 4,
 "nbformat_minor": 5
}
